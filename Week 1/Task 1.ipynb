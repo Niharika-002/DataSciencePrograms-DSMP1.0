{
 "cells": [
  {
   "cell_type": "markdown",
   "metadata": {},
   "source": [
    "#### Print the given strings as per stated format.\n",
    "\n",
    "Given strings:\n",
    "\n",
    "\"Data\" \"Science\" \"Mentorship\" \"Program\"\n",
    "\n",
    "\"By\" \"CampusX\"\n",
    "\n",
    "Output:\n",
    "\n",
    "Data-Science-Mentorship-Program-started-By-CampusX"
   ]
  },
  {
   "cell_type": "code",
   "execution_count": null,
   "metadata": {},
   "outputs": [
    {
     "name": "stdout",
     "output_type": "stream",
     "text": [
      "Data-Science-Mentorship-Program-started-By-CampusX\n"
     ]
    }
   ],
   "source": [
    "print(\"Data\", \"Science\", \"Mentorship\", \"Program\", sep='-', end=\"-started-\")\n",
    "print(\"By\", \"CampusX\", sep='-')"
   ]
  },
  {
   "cell_type": "markdown",
   "metadata": {},
   "source": [
    "#### Write a program that will convert celsius value to fahrenheit."
   ]
  },
  {
   "cell_type": "code",
   "execution_count": 4,
   "metadata": {},
   "outputs": [
    {
     "name": "stdout",
     "output_type": "stream",
     "text": [
      "Temperature in Fahrenheit: 107.60000000000001\n"
     ]
    }
   ],
   "source": [
    "tempC = float(input(\"Enter temperature in celsius: \"))\n",
    "tempF = (9/5*tempC) + 32\n",
    "print(f\"Temperature in Fahrenheit: {tempF}\")"
   ]
  },
  {
   "cell_type": "markdown",
   "metadata": {},
   "source": [
    " #### Take 2 numbers as input from the user.Write a program to swap the numbers without using any special python syntax."
   ]
  },
  {
   "cell_type": "code",
   "execution_count": 5,
   "metadata": {},
   "outputs": [
    {
     "name": "stdout",
     "output_type": "stream",
     "text": [
      "9 5\n",
      "5 9\n"
     ]
    }
   ],
   "source": [
    "a = input(\"Enter a number: \")\n",
    "b = input(\"Enter b number: \")\n",
    "print(a,b)\n",
    "temp = a\n",
    "a = b\n",
    "b = temp\n",
    "print(a,b)"
   ]
  },
  {
   "cell_type": "markdown",
   "metadata": {},
   "source": [
    "#### Write a program to find the euclidean distance between two coordinates.Take both the coordinates from the user as input."
   ]
  },
  {
   "cell_type": "code",
   "execution_count": 6,
   "metadata": {},
   "outputs": [
    {
     "name": "stdout",
     "output_type": "stream",
     "text": [
      "Euclidean distance between two cordinate is: 1.4142135623730951\n"
     ]
    }
   ],
   "source": [
    "import math\n",
    "firstXCor = int(input(\"Enter first X cordinate: \"))\n",
    "secondXCor = int(input(\"Enter second X cordinate: \"))\n",
    "firstYCor = int(input(\"Enter first Y cordinate: \"))\n",
    "secondYCor =  int(input(\"Enter second Y cordinate: \"))\n",
    "\n",
    "euclideanDist = math.sqrt(pow((firstXCor-secondXCor),2)+pow((firstYCor-secondYCor),2))\n",
    "print(f\"Euclidean distance between two cordinate is: {euclideanDist}\")"
   ]
  },
  {
   "cell_type": "markdown",
   "metadata": {},
   "source": [
    "#### Write a program to find the simple interest when the value of principle,rate of interest and time period is provided by the user."
   ]
  },
  {
   "cell_type": "code",
   "execution_count": 7,
   "metadata": {},
   "outputs": [
    {
     "name": "stdout",
     "output_type": "stream",
     "text": [
      "2040.0\n"
     ]
    }
   ],
   "source": [
    "principal = int(input(\"Enter Principal: \"))\n",
    "rate = int(input(\"Enter Rate: \"))\n",
    "time = int(input(\"Enter Time: \"))\n",
    "SI = (principal*rate*time)/100\n",
    "print(SI)\n"
   ]
  },
  {
   "cell_type": "markdown",
   "metadata": {},
   "source": [
    "#### Write a program that will tell the number of dogs and chicken are there when the user will provide the value of total heads and legs.\n",
    " For example: Input: heads -> 4 legs -> 12 \n",
    " \n",
    " Output: dogs -> 2 chicken -> 2\n"
   ]
  },
  {
   "cell_type": "code",
   "execution_count": 1,
   "metadata": {},
   "outputs": [
    {
     "name": "stdout",
     "output_type": "stream",
     "text": [
      "The number of cats and dogs is 3 and 1\n"
     ]
    }
   ],
   "source": [
    "heads = int(input(\"Enter the number of heads: \"))\n",
    "legs = int(input(\"enter the number of legs: \"))\n",
    "\n",
    "d = (legs - 2 * heads) // 2\n",
    "c = heads - d\n",
    "\n",
    "print(f\"The number of cats and dogs is {c} and {d}\")\n"
   ]
  },
  {
   "cell_type": "markdown",
   "metadata": {},
   "source": [
    "#### Write a program to find the sum of squares of first n natural numbers where n will be provided by the user."
   ]
  },
  {
   "cell_type": "code",
   "execution_count": 3,
   "metadata": {},
   "outputs": [
    {
     "name": "stdout",
     "output_type": "stream",
     "text": [
      "30\n"
     ]
    }
   ],
   "source": [
    "n = int(input(\"Enter a number: \"))\n",
    "sum = 0\n",
    "for i in range(n+1):\n",
    "    i = i**2\n",
    "    sum = sum +i\n",
    "\n",
    "print(sum)    \n"
   ]
  },
  {
   "cell_type": "markdown",
   "metadata": {},
   "source": [
    "#### Given the height, width and breadth of a milk tank, you have to find out how many glasses of milk can be obtained? Assume all the inputs are provided by the user."
   ]
  },
  {
   "cell_type": "code",
   "execution_count": 7,
   "metadata": {},
   "outputs": [
    {
     "name": "stdout",
     "output_type": "stream",
     "text": [
      "no. of glass: 227.0\n"
     ]
    }
   ],
   "source": [
    "th = int(input(\"Enter height of the tank : \"))\n",
    "tl = int(input(\"enter length of the tank : \"))\n",
    "tb = int(input(\"enter breadth of the tank : \"))\n",
    "\n",
    "gh = int(input(\"enter the height of the glass : \"))\n",
    "gr= int(input(\"enter the radius of the glass : \"))\n",
    "\n",
    "hvol = th*tb*tl\n",
    "gvol = 3.14*gh*gr*gr \n",
    "print(f\"no. of glass: {hvol//gvol}\")"
   ]
  },
  {
   "cell_type": "markdown",
   "metadata": {},
   "source": [
    "#### Given 2 fractions, find the sum of those 2 fractions.Take the numerator and denominator values of the fractions from the user."
   ]
  },
  {
   "cell_type": "code",
   "execution_count": 10,
   "metadata": {},
   "outputs": [
    {
     "name": "stdout",
     "output_type": "stream",
     "text": [
      "10/8 is the sum of both fractions\n"
     ]
    }
   ],
   "source": [
    "firstNum, firstDeno = int(input(\"First Numerator: \")), int(input(\"First Denominator: \"))\n",
    "secondNum, secondDeno = int(input(\"Second Numerator: \")), int(input(\"Second Denominator: \"))\n",
    "upper=(firstNum * secondDeno)+(secondNum * firstDeno)\n",
    "lower=(firstDeno * secondDeno)\n",
    "print(f\"{upper}/{lower} is the sum of both fractions\")"
   ]
  },
  {
   "cell_type": "markdown",
   "metadata": {},
   "source": [
    "#### Given the first 2 terms of an Arithmetic Series.Find the Nth term of the series. Assume all inputs are provided by the user."
   ]
  },
  {
   "cell_type": "code",
   "execution_count": 11,
   "metadata": {},
   "outputs": [
    {
     "name": "stdout",
     "output_type": "stream",
     "text": [
      "Nth term of this AP is: 21\n"
     ]
    }
   ],
   "source": [
    "firstTerm = int(input(\"Enter first term: \"))\n",
    "secondTerm = int(input(\"Enter second term: \"))\n",
    "diff = secondTerm - firstTerm\n",
    "n = int(input(\"Enter  nth term : \"))\n",
    "nth = firstTerm+(n-1)*diff\n",
    "print(f\"Nth term of this AP is: {nth}\")"
   ]
  },
  {
   "cell_type": "markdown",
   "metadata": {},
   "source": []
  },
  {
   "cell_type": "code",
   "execution_count": null,
   "metadata": {},
   "outputs": [],
   "source": []
  }
 ],
 "metadata": {
  "kernelspec": {
   "display_name": "Python 3",
   "language": "python",
   "name": "python3"
  },
  "language_info": {
   "codemirror_mode": {
    "name": "ipython",
    "version": 3
   },
   "file_extension": ".py",
   "mimetype": "text/x-python",
   "name": "python",
   "nbconvert_exporter": "python",
   "pygments_lexer": "ipython3",
   "version": "3.10.13"
  }
 },
 "nbformat": 4,
 "nbformat_minor": 2
}
